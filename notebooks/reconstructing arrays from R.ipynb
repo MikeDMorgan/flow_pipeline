{
 "cells": [
  {
   "cell_type": "code",
   "execution_count": 1,
   "metadata": {
    "collapsed": false
   },
   "outputs": [],
   "source": [
    "import pandas as pd\n",
    "import rpy2.robjects as ro\n",
    "from rpy2.robjects import r as R\n",
    "from rpy2.robjects import pandas2ri\n",
    "from rpy2.robjects import numpy2ri\n",
    "import numpy as np\n",
    "import sqlite3 as sql\n",
    "import pandas.io.sql as pdsql\n",
    "import re\n",
    "import struct\n",
    "import binascii"
   ]
  },
  {
   "cell_type": "code",
   "execution_count": 2,
   "metadata": {
    "collapsed": false
   },
   "outputs": [
    {
     "name": "stderr",
     "output_type": "stream",
     "text": [
      "/ifs/apps/apps/python-2.7.10/lib/python2.7/site-packages/rpy2/robjects/functions.py:106: UserWarning: Loading required package: DBI\n",
      "\n",
      "  res = super(Function, self).__call__(*new_args, **new_kwargs)\n"
     ]
    }
   ],
   "source": [
    "db = \"/ifs/projects/proj052/pipeline_proj052/csvdb\"\n",
    "dbh = sql.connect(db)\n",
    "pandas2ri.activate()\n",
    "numpy2ri.activate()\n",
    "\n",
    "# have to pull out arrays in R\n",
    "# need to unserialize in R as well, Python doesn't reconstruct the arrays properly\n",
    "R('''library(RSQLite)''')\n",
    "R('''con <- dbConnect(SQLite(), \"%s\")''' % db)\n",
    "R('''out_df <- dbGetQuery(con, \"SELECT * from CD4_Tmem_fano\")''')\n",
    "R('''out_df$rearrays <- lapply(out_df$array, FUN=function(x) {unserialize(charToRaw(x))})''')\n",
    "\n",
    "# drop the raw arrays\n",
    "py_df = R[\"out_df\"]\n",
    "\n",
    "# arrays are in column 5\n",
    "gates = [gx for gx in py_df[0]]\n",
    "batch = [bx for bx in py_df[1]]\n",
    "rows = [rx for rx in py_df[2]]\n",
    "cols = [cx for cx in py_df[3]]\n",
    "raw_arrays = [rax for rax in py_df[4]]\n",
    "arrays = [ax for ax in py_df[5]]\n",
    "indx = range(len(arrays))"
   ]
  },
  {
   "cell_type": "code",
   "execution_count": 3,
   "metadata": {
    "collapsed": false
   },
   "outputs": [
    {
     "data": {
      "text/html": [
       "<div>\n",
       "<table border=\"1\" class=\"dataframe\">\n",
       "  <thead>\n",
       "    <tr style=\"text-align: right;\">\n",
       "      <th></th>\n",
       "      <th>gates</th>\n",
       "      <th>batch</th>\n",
       "      <th>twin.ids</th>\n",
       "      <th>params</th>\n",
       "      <th>arrays</th>\n",
       "    </tr>\n",
       "  </thead>\n",
       "  <tbody>\n",
       "    <tr>\n",
       "      <th>0</th>\n",
       "      <td>FSC-A.FSC-H.SSC-A</td>\n",
       "      <td>ZZEV</td>\n",
       "      <td>Twin_TS01_1/Twin_TS01_10/Twin_TS01_11/Twin_TS0...</td>\n",
       "      <td>CD161/NA/PD-1/Aq/NA/CD8/CCR6/CD45RA/NA/CD4/CXC...</td>\n",
       "      <td>[[0.0, 0.000382912816514, 0.000259347407308, 0...</td>\n",
       "    </tr>\n",
       "    <tr>\n",
       "      <th>1</th>\n",
       "      <td>FSC-A.FSC-H.CD161</td>\n",
       "      <td>ZZEV</td>\n",
       "      <td>Twin_TS01_1/Twin_TS01_10/Twin_TS01_11/Twin_TS0...</td>\n",
       "      <td>CD161/NA/PD-1/Aq/NA/CD8/CCR6/CD45RA/NA/CD4/CXC...</td>\n",
       "      <td>[[0.0, 0.000394743593717, 0.0, 0.0, 0.00013117...</td>\n",
       "    </tr>\n",
       "    <tr>\n",
       "      <th>2</th>\n",
       "      <td>FSC-A.FSC-H.PD-1</td>\n",
       "      <td>ZZEV</td>\n",
       "      <td>Twin_TS01_1/Twin_TS01_10/Twin_TS01_11/Twin_TS0...</td>\n",
       "      <td>CD161/NA/PD-1/Aq/NA/CD8/CCR6/CD45RA/NA/CD4/CXC...</td>\n",
       "      <td>[[0.0, 0.000120365756097, 1.78624042582e-05, 0...</td>\n",
       "    </tr>\n",
       "    <tr>\n",
       "      <th>3</th>\n",
       "      <td>FSC-A.FSC-H.Aq</td>\n",
       "      <td>ZZEV</td>\n",
       "      <td>Twin_TS01_1/Twin_TS01_10/Twin_TS01_11/Twin_TS0...</td>\n",
       "      <td>CD161/NA/PD-1/Aq/NA/CD8/CCR6/CD45RA/NA/CD4/CXC...</td>\n",
       "      <td>[[0.0, 0.000388163279044, 0.000360529731116, 0...</td>\n",
       "    </tr>\n",
       "    <tr>\n",
       "      <th>4</th>\n",
       "      <td>FSC-A.FSC-H.CD8</td>\n",
       "      <td>ZZEV</td>\n",
       "      <td>Twin_TS01_1/Twin_TS01_10/Twin_TS01_11/Twin_TS0...</td>\n",
       "      <td>CD161/NA/PD-1/Aq/NA/CD8/CCR6/CD45RA/NA/CD4/CXC...</td>\n",
       "      <td>[[0.0, 0.0, 0.0, 0.0, 0.0, 0.0, 0.0, 0.0, 0.0,...</td>\n",
       "    </tr>\n",
       "  </tbody>\n",
       "</table>\n",
       "</div>"
      ],
      "text/plain": [
       "               gates batch                                           twin.ids  \\\n",
       "0  FSC-A.FSC-H.SSC-A  ZZEV  Twin_TS01_1/Twin_TS01_10/Twin_TS01_11/Twin_TS0...   \n",
       "1  FSC-A.FSC-H.CD161  ZZEV  Twin_TS01_1/Twin_TS01_10/Twin_TS01_11/Twin_TS0...   \n",
       "2   FSC-A.FSC-H.PD-1  ZZEV  Twin_TS01_1/Twin_TS01_10/Twin_TS01_11/Twin_TS0...   \n",
       "3     FSC-A.FSC-H.Aq  ZZEV  Twin_TS01_1/Twin_TS01_10/Twin_TS01_11/Twin_TS0...   \n",
       "4    FSC-A.FSC-H.CD8  ZZEV  Twin_TS01_1/Twin_TS01_10/Twin_TS01_11/Twin_TS0...   \n",
       "\n",
       "                                              params  \\\n",
       "0  CD161/NA/PD-1/Aq/NA/CD8/CCR6/CD45RA/NA/CD4/CXC...   \n",
       "1  CD161/NA/PD-1/Aq/NA/CD8/CCR6/CD45RA/NA/CD4/CXC...   \n",
       "2  CD161/NA/PD-1/Aq/NA/CD8/CCR6/CD45RA/NA/CD4/CXC...   \n",
       "3  CD161/NA/PD-1/Aq/NA/CD8/CCR6/CD45RA/NA/CD4/CXC...   \n",
       "4  CD161/NA/PD-1/Aq/NA/CD8/CCR6/CD45RA/NA/CD4/CXC...   \n",
       "\n",
       "                                              arrays  \n",
       "0  [[0.0, 0.000382912816514, 0.000259347407308, 0...  \n",
       "1  [[0.0, 0.000394743593717, 0.0, 0.0, 0.00013117...  \n",
       "2  [[0.0, 0.000120365756097, 1.78624042582e-05, 0...  \n",
       "3  [[0.0, 0.000388163279044, 0.000360529731116, 0...  \n",
       "4  [[0.0, 0.0, 0.0, 0.0, 0.0, 0.0, 0.0, 0.0, 0.0,...  "
      ]
     },
     "execution_count": 3,
     "metadata": {},
     "output_type": "execute_result"
    }
   ],
   "source": [
    "df = pd.DataFrame(columns = [\"gates\", \"batch\", \"twin.ids\", \"params\", \"arrays\"],\n",
    "                  index=indx)\n",
    "df[\"arrays\"] = arrays\n",
    "df[\"gates\"] = gates\n",
    "df[\"batch\"] = batch\n",
    "df[\"twin.ids\"] = rows\n",
    "df[\"params\"] = cols\n",
    "df.head()"
   ]
  },
  {
   "cell_type": "code",
   "execution_count": 10,
   "metadata": {
    "collapsed": false,
    "scrolled": true
   },
   "outputs": [
    {
     "name": "stdout",
     "output_type": "stream",
     "text": [
      "560\n",
      "['CD45RA', 'CD4', 'CCR7']\n",
      "                  CD161         NA       PD-1         Aq         NA  \\\n",
      "Twin_TS01_1    0.000000   0.000383   0.000259   0.000000   0.000096   \n",
      "Twin_TS01_10   0.000000   0.000000   0.000000   0.000000   0.000107   \n",
      "Twin_TS01_11   0.000000   0.000000   0.000434   0.000000   0.000324   \n",
      "Twin_TS01_12   0.073547   0.000000   0.002435   0.053324   0.000000   \n",
      "Twin_TS01_13   0.000000   0.000000   0.117630   0.000000   0.126612   \n",
      "Twin_TS01_14  25.492242   0.000000  41.644086   0.000000  38.305760   \n",
      "Twin_TS01_15   3.275560  24.944575   0.000000   0.000000   0.000000   \n",
      "Twin_TS01_16  33.688433   0.000000  10.044140   0.000000   0.000000   \n",
      "Twin_TS01_17   5.626367   0.000000  27.772179   0.000000   6.811693   \n",
      "Twin_TS01_18   0.000000   0.000000   0.000000   0.000000   0.000000   \n",
      "Twin_TS01_19   0.701811   0.000000   0.000000  34.505209   0.000000   \n",
      "Twin_TS01_2   22.663834   0.000000  37.553462  33.622102   0.000000   \n",
      "Twin_TS01_20   0.000000   0.000000   0.000000   0.000000   0.000000   \n",
      "Twin_TS01_21   0.000000   7.622762   0.000000  24.471413  11.017163   \n",
      "Twin_TS01_22  13.113285  11.648822   0.000000   0.000000   0.000000   \n",
      "Twin_TS01_23   0.000000   0.000000   0.000000   0.000000   2.694018   \n",
      "Twin_TS01_24   0.000000  15.259682   2.304998   0.000000   1.829057   \n",
      "Twin_TS01_25   0.000000   0.000000   0.000000   0.000000  25.805338   \n",
      "Twin_TS01_26   0.000000   0.000000   1.966145   0.000000  19.584294   \n",
      "Twin_TS01_27   5.890371   0.000000   8.117115   3.013684   0.000000   \n",
      "Twin_TS01_28   0.000000   0.000000   1.683154   0.000000   0.000000   \n",
      "Twin_TS01_29   2.683416   0.000000   0.947571   0.000000   6.879904   \n",
      "Twin_TS01_3    5.866764  20.125904   0.000000   0.000000   0.000000   \n",
      "Twin_TS01_30  26.675494   0.000000  15.749413   0.000000   0.000000   \n",
      "Twin_TS01_31   2.056193   0.000000  27.944870   0.000000  48.730510   \n",
      "Twin_TS01_32   0.000000   0.000000   0.000000   0.000000   0.000000   \n",
      "Twin_TS01_4    4.596267   0.000000   0.000000  29.165908   0.000000   \n",
      "Twin_TS01_5   23.644210   0.000000   2.206369  34.107553   0.000000   \n",
      "Twin_TS01_6    0.000000   0.000000   0.000000   0.000000   0.000000   \n",
      "Twin_TS01_7    0.000000  18.773321   0.000000  26.009769  34.399387   \n",
      "Twin_TS01_8   10.707706   4.318657   0.000000   0.000000   0.000000   \n",
      "Twin_TS01_9    0.000000   0.000000   0.000000   0.000000   0.841580   \n",
      "\n",
      "                    CD8       CCR6     CD45RA         NA        CD4  \\\n",
      "Twin_TS01_1    0.000380   0.000000   0.000000   0.000000   0.000000   \n",
      "Twin_TS01_10   0.000000   0.000142   0.000000   0.000000   0.000183   \n",
      "Twin_TS01_11   0.000000   0.000352   0.000000   0.000149   0.000276   \n",
      "Twin_TS01_12   0.000000   0.000000   0.000000   0.000000   0.000000   \n",
      "Twin_TS01_13   0.000000   0.000000   0.076041   0.000000  31.588107   \n",
      "Twin_TS01_14   0.000000  52.228054  40.979821   0.000000   0.000000   \n",
      "Twin_TS01_15   0.000000   0.000000   0.000000   0.000000   0.000000   \n",
      "Twin_TS01_16   3.240934   0.000000  23.643306  32.746312   0.000000   \n",
      "Twin_TS01_17  44.313210   0.000000   0.000000   0.000000   0.000000   \n",
      "Twin_TS01_18   0.000000   0.000000   0.000000  20.771961   0.000000   \n",
      "Twin_TS01_19  14.412209  30.393835   0.000000   3.003625  27.515648   \n",
      "Twin_TS01_2    0.000000   0.000000   0.000000  27.553849   0.000000   \n",
      "Twin_TS01_20   0.000000   8.677040   0.000000  17.388773   0.000000   \n",
      "Twin_TS01_21   0.000000  28.199705  10.260991   0.000000   0.000000   \n",
      "Twin_TS01_22   0.000000  12.449512   0.000000   0.522443   0.000000   \n",
      "Twin_TS01_23   0.000000  15.703140   0.000000   8.091251   0.000000   \n",
      "Twin_TS01_24  10.501356   0.000000   0.000000   0.000000   0.000000   \n",
      "Twin_TS01_25   0.000000   3.887036   0.000000   0.000000   2.745367   \n",
      "Twin_TS01_26   0.000000   7.025336   0.000000  15.647419   0.606244   \n",
      "Twin_TS01_27   0.000000   0.000000   0.000000   0.000000   0.000000   \n",
      "Twin_TS01_28   0.000000   0.000000   6.119357   0.000000   7.276236   \n",
      "Twin_TS01_29   0.000000   0.782956  10.539216   0.000000   0.000000   \n",
      "Twin_TS01_3    0.000000   0.000000   0.000000   0.000000   0.000000   \n",
      "Twin_TS01_30  18.460172   0.000000  19.878466  40.519562   0.000000   \n",
      "Twin_TS01_31  13.511615   0.000000   0.000000   0.000000   0.000000   \n",
      "Twin_TS01_32   0.000000   0.000000   0.000000  23.432972   0.000000   \n",
      "Twin_TS01_4   24.262190  22.965187   0.000000  26.396544  20.207153   \n",
      "Twin_TS01_5    0.000000   0.000000   0.000000  20.525248   0.000000   \n",
      "Twin_TS01_6    0.000000   7.027394   0.000000   2.691260   0.000000   \n",
      "Twin_TS01_7    0.000000  28.810320  14.386652   0.000000   0.000000   \n",
      "Twin_TS01_8    0.000000  30.970175   0.000000  36.182103   0.000000   \n",
      "Twin_TS01_9    0.000000   0.373512   0.000000   0.971676   0.000000   \n",
      "\n",
      "                ...             NA      CCR10        CD3      CXCR3  \\\n",
      "Twin_TS01_1     ...       0.000000   0.000000   0.000422   0.000000   \n",
      "Twin_TS01_10    ...       0.000413   0.000000   0.000214   0.000386   \n",
      "Twin_TS01_11    ...       0.000000   0.000000   0.000086   0.000000   \n",
      "Twin_TS01_12    ...       0.077311   0.000000   0.014951   0.000000   \n",
      "Twin_TS01_13    ...      33.758209  23.673985   0.000000   0.000000   \n",
      "Twin_TS01_14    ...       3.923944   0.000000  15.777855   0.000000   \n",
      "Twin_TS01_15    ...       0.431259   0.000000  31.612961   0.000000   \n",
      "Twin_TS01_16    ...       0.000000   0.000000   0.000000   0.000000   \n",
      "Twin_TS01_17    ...      39.987846   0.000000   0.000000  33.760148   \n",
      "Twin_TS01_18    ...      25.365454   0.000000   1.459579  26.836218   \n",
      "Twin_TS01_19    ...       0.000000   0.000000   0.000000   0.000000   \n",
      "Twin_TS01_2     ...       0.000000  23.939698   0.000000  14.723391   \n",
      "Twin_TS01_20    ...       4.048948  12.503983   0.000000   0.000000   \n",
      "Twin_TS01_21    ...       0.000000   0.000000   0.000000   0.000000   \n",
      "Twin_TS01_22    ...       0.000000   3.888711   5.815633   0.000000   \n",
      "Twin_TS01_23    ...       0.000000   0.000000   0.000000   0.000000   \n",
      "Twin_TS01_24    ...       0.000000   0.000000  15.550125   0.000000   \n",
      "Twin_TS01_25    ...       1.523327   0.000000   2.276228   4.218770   \n",
      "Twin_TS01_26    ...       0.000000   0.000000   4.820913   0.000000   \n",
      "Twin_TS01_27    ...       3.978023   0.000000   0.911749   0.000000   \n",
      "Twin_TS01_28    ...       3.220851   5.225041   0.000000   0.000000   \n",
      "Twin_TS01_29    ...       3.932319   0.000000   2.392301   0.000000   \n",
      "Twin_TS01_3     ...       4.093476   0.000000  15.448206   0.000000   \n",
      "Twin_TS01_30    ...       0.000000   0.000000   0.000000   0.000000   \n",
      "Twin_TS01_31    ...       3.295693   0.000000   0.000000  40.697431   \n",
      "Twin_TS01_32    ...      26.922887   0.000000   0.157652  20.896310   \n",
      "Twin_TS01_4     ...       0.000000   0.000000   0.000000   0.000000   \n",
      "Twin_TS01_5     ...       0.000000  35.379588   0.000000  14.859247   \n",
      "Twin_TS01_6     ...       4.316643   3.405711   0.000000   0.000000   \n",
      "Twin_TS01_7     ...       0.000000   0.000000   0.000000   0.000000   \n",
      "Twin_TS01_8     ...       0.000000   1.205609   1.035335   0.000000   \n",
      "Twin_TS01_9     ...       0.000000   0.000000   0.000000   0.000000   \n",
      "\n",
      "                     NA       CCR4         NA         NA         NA         NA  \n",
      "Twin_TS01_1    0.000360   0.000000   0.000345   0.000000   0.000122   0.000254  \n",
      "Twin_TS01_10   0.000000   0.000000   0.000000   0.000000   0.000000   0.000000  \n",
      "Twin_TS01_11   0.000214   0.000000   0.000000   0.000181   0.000000   0.054085  \n",
      "Twin_TS01_12   0.064978   0.000000   0.123525   0.093031   0.000000   0.000000  \n",
      "Twin_TS01_13   0.000000   0.000000   0.000000   0.000000   0.000000   0.000000  \n",
      "Twin_TS01_14   0.000000  34.912621   0.000000  27.939136  35.121327   0.000000  \n",
      "Twin_TS01_15  42.343796  25.779821   0.000000   0.000000   0.000000   0.000000  \n",
      "Twin_TS01_16   0.000000   0.000000   0.000000   0.000000  33.254554   0.000000  \n",
      "Twin_TS01_17   0.000000  20.093933  26.208740   0.000000   3.487139  19.037967  \n",
      "Twin_TS01_18   0.000000   0.000000   0.000000   0.000000  25.659540   0.000000  \n",
      "Twin_TS01_19   0.000000   0.000000  22.916450   0.000000  18.215306   0.000000  \n",
      "Twin_TS01_2   19.792521   0.000000  25.142172  10.773301   0.000000   0.000000  \n",
      "Twin_TS01_20   0.000000   0.000000  20.152749   0.000000   6.315288   0.000000  \n",
      "Twin_TS01_21  16.134434   0.000000  44.421834   0.000000  13.023364   0.000000  \n",
      "Twin_TS01_22   6.710938   7.636664   0.000000   0.000000   0.000000   0.000000  \n",
      "Twin_TS01_23   4.915564   0.000000   7.380923   0.000000   0.000000  13.371308  \n",
      "Twin_TS01_24  13.353727   0.000000  20.139697   0.000000   7.854233  25.560253  \n",
      "Twin_TS01_25   0.000000   0.000000   0.000000   0.000000   0.000000   0.000000  \n",
      "Twin_TS01_26   4.488863   0.000000   0.000000   1.030528   0.000000  10.537542  \n",
      "Twin_TS01_27   7.217808   0.000000   0.000000   7.759971   0.000000   0.000000  \n",
      "Twin_TS01_28   0.000000   0.000000   0.000000   0.000000   0.000000   0.000000  \n",
      "Twin_TS01_29   0.000000  11.029532   0.000000  23.034351  25.619163   0.000000  \n",
      "Twin_TS01_3   33.419630  56.018260   0.000000   0.000000   0.000000   0.000000  \n",
      "Twin_TS01_30   0.000000   0.000000   0.000000   0.000000  34.572390   0.000000  \n",
      "Twin_TS01_31   0.000000  20.454796  20.583414   0.000000   3.519321  20.614150  \n",
      "Twin_TS01_32   0.000000   0.000000   0.000000   0.000000  22.117837   0.000000  \n",
      "Twin_TS01_4    0.000000   0.000000  21.834290   0.000000   5.382019   0.000000  \n",
      "Twin_TS01_5    2.812217   0.000000   1.785094  12.356719   0.000000   0.000000  \n",
      "Twin_TS01_6    0.000000   0.000000  26.303256   0.000000   4.596307   0.000000  \n",
      "Twin_TS01_7   19.404749   0.000000  22.173566   0.000000  10.908162   0.000000  \n",
      "Twin_TS01_8    1.439808   1.024955   0.000000   0.000000   0.000000   0.000000  \n",
      "Twin_TS01_9    1.129267   0.000000   0.055119   0.000000   0.000000   0.893133  \n",
      "\n",
      "[32 rows x 22 columns]\n"
     ]
    }
   ],
   "source": [
    "rownames = len(df[\"twin.ids\"][505].split(\"/\"))\n",
    "colnames = len(df[\"params\"][505].split(\"/\"))\n",
    "gate = df[\"gates\"][505].split(\".\")\n",
    "array = np.array(df[\"arrays\"][505]).reshape(rownames, colnames)\n",
    "print len(df[\"gates\"])\n",
    "print pd.DataFrame(array, columns=df[\"params\"][505].split(\"/\"),\n",
    "                  index=df[\"twin.ids\"][505].split(\"/\"))\n",
    "#pd.DataFrame(np.fromstring(str(df[\"array\"][125]), dtype=np.float64, count=rows*cols).reshape((rows, cols)),\n",
    "#             columns=df[\"columns\"][125].split(\"/\"), index=df[\"rows\"][125].split(\"/\"))"
   ]
  },
  {
   "cell_type": "code",
   "execution_count": null,
   "metadata": {
    "collapsed": true
   },
   "outputs": [],
   "source": [
    "rows = len(df[\"rows\"][505].split(\"/\"))\n",
    "cols = len(df[\"columns\"][505].split(\"/\"))\n",
    "pd.DataFrame(np.fromstring(str(df[\"array\"][505]), dtype=np.float16, count=rows*(cols-1)).reshape((rows, (cols-1))),\n",
    "             columns=df[\"columns\"][505].split(\"/\")[:-1], index=df[\"rows\"][505].split(\"/\"))"
   ]
  },
  {
   "cell_type": "code",
   "execution_count": null,
   "metadata": {
    "collapsed": true
   },
   "outputs": [],
   "source": [
    "[x for x in df[\"gate\"] if re.search(\"CD8.CD4\", x)]"
   ]
  },
  {
   "cell_type": "code",
   "execution_count": null,
   "metadata": {
    "collapsed": false,
    "scrolled": true
   },
   "outputs": [],
   "source": [
    "R('''library(RSQLite)''')\n",
    "R('''con <- dbConnect(SQLite(), \":memory:\")''')\n",
    "R('''dbGetQuery(con, \"CREATE TABLE IF NOT EXISTS test_table (array BLOB)\")''')\n",
    "R('''array1 <- matrix(c(0, 1.34, 8.23, 23.23, 1.35, 0.2342, 0.4, 0.12314, 0.2141242, '''\n",
    "'''4.324, 0.132512, 0.1235315, 0.1225, 0.234, 0.45642, 0.45724, 0.2745, 0.12351), ncol=4, nrow=4)''')\n",
    "R('''array2 <- matrix(seq(1:16), ncol=4, nrow=4)''')\n",
    "\n",
    "R('''list_of_arrays = list(array1, array2)''')\n",
    "R('''df <- data.frame(indx=1:length(list_of_arrays),\n",
    "    arrays=I(unlist(lapply(list_of_arrays, FUN=function(x) {rawToChar(serialize(x, NULL, ascii=T))}))))''')\n",
    "\n",
    "R('''dbGetPreparedQuery(con, \"INSERT into test_table (array) values (:arrays)\", bind.data=df)''')\n",
    "R('''rearray1 <- unserialize(charToRaw(raw_char1))''')\n",
    "R('''out_arrays <- df$arrays''')\n",
    "R('''rearrays <- lapply(df$arrays, FUN=function(x) {unserialize(charToRaw(x))})''')\n",
    "\n",
    "R('''print(!is.finite(Inf))''')\n",
    "pandas2ri.activate()\n",
    "py_arrays = R[\"rearrays\"]\n",
    "py_arrays[1]"
   ]
  },
  {
   "cell_type": "code",
   "execution_count": null,
   "metadata": {
    "collapsed": false
   },
   "outputs": [],
   "source": [
    "#print np.frombuffer(df[\"array\"][505], count=rows*cols, dtype=np.float16).reshape(rows, cols)"
   ]
  },
  {
   "cell_type": "code",
   "execution_count": null,
   "metadata": {
    "collapsed": false
   },
   "outputs": [],
   "source": []
  },
  {
   "cell_type": "code",
   "execution_count": null,
   "metadata": {
    "collapsed": true
   },
   "outputs": [],
   "source": []
  },
  {
   "cell_type": "code",
   "execution_count": null,
   "metadata": {
    "collapsed": true
   },
   "outputs": [],
   "source": []
  }
 ],
 "metadata": {
  "kernelspec": {
   "display_name": "Python 2",
   "language": "python",
   "name": "python2"
  },
  "language_info": {
   "codemirror_mode": {
    "name": "ipython",
    "version": 2
   },
   "file_extension": ".py",
   "mimetype": "text/x-python",
   "name": "python",
   "nbconvert_exporter": "python",
   "pygments_lexer": "ipython2",
   "version": "2.7.10"
  }
 },
 "nbformat": 4,
 "nbformat_minor": 0
}
