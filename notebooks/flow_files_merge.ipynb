{
 "cells": [
  {
   "cell_type": "code",
   "execution_count": 1,
   "metadata": {
    "collapsed": true
   },
   "outputs": [],
   "source": [
    "import pandas as pd\n",
    "import numpy as np\n",
    "import os\n",
    "import re"
   ]
  },
  {
   "cell_type": "code",
   "execution_count": 2,
   "metadata": {
    "collapsed": false
   },
   "outputs": [],
   "source": [
    "file_dir = \"/ifs/projects/proj052/pipeline_proj052/flow_tables.dir/\"\n",
    "tables = [x for x in os.listdir(file_dir) if re.search(\"fano\", x)]"
   ]
  },
  {
   "cell_type": "code",
   "execution_count": 3,
   "metadata": {
    "collapsed": false,
    "scrolled": true
   },
   "outputs": [],
   "source": [
    "tab1 = tables[0]\n",
    "df = pd.read_table(file_dir + tab1, header=0, index_col=None, sep=\"\\t\")\n",
    "tables.remove(tab1)\n",
    "for tab in tables:\n",
    "    _df = pd.read_table(file_dir + tab, header=0, index_col=None, sep=\"\\t\")\n",
    "    df = df.append(_df)"
   ]
  },
  {
   "cell_type": "code",
   "execution_count": 4,
   "metadata": {
    "collapsed": false
   },
   "outputs": [],
   "source": [
    "df[\"twin_num\"] = [int(xi.split(\"_\")[-1]) for xi in df[\"twin.id\"].values]"
   ]
  },
  {
   "cell_type": "code",
   "execution_count": 5,
   "metadata": {
    "collapsed": true
   },
   "outputs": [],
   "source": [
    "demo_file = \"/ifs/projects/proj052/backup/Twin_pairs.csv\"\n",
    "demo_df = pd.read_table(demo_file, sep=\"\\t\", header=0, index_col=None)"
   ]
  },
  {
   "cell_type": "code",
   "execution_count": 6,
   "metadata": {
    "collapsed": false
   },
   "outputs": [
    {
     "data": {
      "text/html": [
       "<div style=\"max-height:1000px;max-width:1500px;overflow:auto;\">\n",
       "<table border=\"1\" class=\"dataframe\">\n",
       "  <thead>\n",
       "    <tr style=\"text-align: right;\">\n",
       "      <th></th>\n",
       "      <th>FlowJo Sample ID</th>\n",
       "      <th>Unique Family ID</th>\n",
       "      <th>Zygosity</th>\n",
       "      <th>Age</th>\n",
       "      <th>Replicate#</th>\n",
       "      <th>Visit#</th>\n",
       "    </tr>\n",
       "  </thead>\n",
       "  <tbody>\n",
       "    <tr>\n",
       "      <th>0</th>\n",
       "      <td>1</td>\n",
       "      <td>23</td>\n",
       "      <td>DZ</td>\n",
       "      <td>65.45</td>\n",
       "      <td>1</td>\n",
       "      <td>1</td>\n",
       "    </tr>\n",
       "    <tr>\n",
       "      <th>1</th>\n",
       "      <td>2</td>\n",
       "      <td>23</td>\n",
       "      <td>DZ</td>\n",
       "      <td>65.45</td>\n",
       "      <td>1</td>\n",
       "      <td>1</td>\n",
       "    </tr>\n",
       "    <tr>\n",
       "      <th>2</th>\n",
       "      <td>3</td>\n",
       "      <td>15</td>\n",
       "      <td>DZ</td>\n",
       "      <td>66.63</td>\n",
       "      <td>1</td>\n",
       "      <td>1</td>\n",
       "    </tr>\n",
       "    <tr>\n",
       "      <th>3</th>\n",
       "      <td>4</td>\n",
       "      <td>15</td>\n",
       "      <td>DZ</td>\n",
       "      <td>66.63</td>\n",
       "      <td>1</td>\n",
       "      <td>1</td>\n",
       "    </tr>\n",
       "    <tr>\n",
       "      <th>4</th>\n",
       "      <td>5</td>\n",
       "      <td>65</td>\n",
       "      <td>DZ</td>\n",
       "      <td>61.67</td>\n",
       "      <td>1</td>\n",
       "      <td>1</td>\n",
       "    </tr>\n",
       "  </tbody>\n",
       "</table>\n",
       "</div>"
      ],
      "text/plain": [
       "   FlowJo Sample ID  Unique Family ID Zygosity    Age  Replicate#  Visit#\n",
       "0                 1                23       DZ  65.45           1       1\n",
       "1                 2                23       DZ  65.45           1       1\n",
       "2                 3                15       DZ  66.63           1       1\n",
       "3                 4                15       DZ  66.63           1       1\n",
       "4                 5                65       DZ  61.67           1       1"
      ]
     },
     "execution_count": 6,
     "metadata": {},
     "output_type": "execute_result"
    }
   ],
   "source": [
    "demo_df.head()"
   ]
  },
  {
   "cell_type": "code",
   "execution_count": 7,
   "metadata": {
    "collapsed": false
   },
   "outputs": [],
   "source": [
    "merge_df = pd.merge(left=df, right=demo_df, left_on=\"twin_num\", right_on=\"FlowJo Sample ID\", how='inner')\n",
    "#merge_df.index = merge_df[\"twin.id\"]\n",
    "#merge_df.drop([\"twin.id\"], axis=1, inplace=True)"
   ]
  },
  {
   "cell_type": "code",
   "execution_count": 8,
   "metadata": {
    "collapsed": false
   },
   "outputs": [],
   "source": [
    "merge_df.head()\n",
    "cols = [\"NA1\", \"NA2\", \"NA3\", \"CD161\", \"NA4\", \"PD-1\", \"Aq_blue\", \"NA5\", \"CD8\", \"CCR6\", \"CD45RA\", \"NA6\", \"CD4\", \n",
    "        \"CXCR5\", \"CCR7\", \"NA7\", \"CCR10\", \"CD3\", \"CXCR3\", \"NA8\", \"CCR4\", \"NA9\", \"twin.id\", \"subset\", \"twin_num\", \n",
    "        \"flowjo_id\", \"family_id\", \"zygosity\", \"age\", \"replicate\", \"visit\"]\n",
    "merge_df.columns = cols"
   ]
  },
  {
   "cell_type": "code",
   "execution_count": 9,
   "metadata": {
    "collapsed": true
   },
   "outputs": [],
   "source": [
    "#merge_df.to_csv(\"/ifs/projects/proj052/flow_processing_tables/Twins_merged_data.tsv\", sep=\"\\t\", index_label=\"indx\")"
   ]
  },
  {
   "cell_type": "code",
   "execution_count": 10,
   "metadata": {
    "collapsed": false
   },
   "outputs": [],
   "source": [
    "# split into MZ and DZ - check each individual matches up with another\n",
    "MZ_df = merge_df[merge_df[\"zygosity\"] == \"MZ\"]\n",
    "DZ_df = merge_df[merge_df[\"zygosity\"] == \"DZ\"]"
   ]
  },
  {
   "cell_type": "code",
   "execution_count": 11,
   "metadata": {
    "collapsed": false
   },
   "outputs": [],
   "source": [
    "MZ_1 = MZ_df[MZ_df.duplicated(subset=\"family_id\")]\n",
    "MZ_2 = MZ_df[[not i for i in MZ_df.duplicated(subset=\"family_id\")]]"
   ]
  },
  {
   "cell_type": "code",
   "execution_count": 12,
   "metadata": {
    "collapsed": false
   },
   "outputs": [],
   "source": [
    "MZ1_melt = pd.melt(MZ_1, id_vars=[\"twin.id\", \"twin_num\", \"family_id\", \"flowjo_id\", \"zygosity\", \"age\", \"subset\",\n",
    "                                  \"replicate\", \"visit\"], var_name=\"marker\", value_name=\"twin1\")\n",
    "MZ2_melt = pd.melt(MZ_2, id_vars=[\"twin.id\", \"twin_num\", \"family_id\", \"flowjo_id\", \"zygosity\", \"age\", \"subset\",\n",
    "                                  \"replicate\", \"visit\"], var_name=\"marker\", value_name=\"twin2\")"
   ]
  },
  {
   "cell_type": "code",
   "execution_count": 13,
   "metadata": {
    "collapsed": false
   },
   "outputs": [],
   "source": [
    "matched_MZ = pd.merge(left=MZ1_melt, right=MZ2_melt, on=[\"marker\", \"zygosity\", \"age\", \"family_id\"], how='inner')"
   ]
  },
  {
   "cell_type": "code",
   "execution_count": 14,
   "metadata": {
    "collapsed": true
   },
   "outputs": [],
   "source": [
    "#matched_MZ.to_csv(\"/ifs/projects/proj052/flow_processing_tables/MZ_twins_data.tsv\", sep=\"\\t\")"
   ]
  },
  {
   "cell_type": "code",
   "execution_count": 15,
   "metadata": {
    "collapsed": true
   },
   "outputs": [],
   "source": [
    "# and now for DZ twins\n",
    "DZ_1 = DZ_df[DZ_df.duplicated(subset=\"family_id\")]\n",
    "DZ_2 = DZ_df[[not i for i in DZ_df.duplicated(subset=\"family_id\")]]"
   ]
  },
  {
   "cell_type": "code",
   "execution_count": 24,
   "metadata": {
    "collapsed": true
   },
   "outputs": [],
   "source": [
    "DZ1_melt = pd.melt(DZ_1, id_vars=[\"twin.id\", \"twin_num\", \"family_id\", \"flowjo_id\", \"zygosity\", \"age\", \"subset\",\n",
    "                                  \"replicate\", \"visit\"], var_name=\"marker\", value_name=\"twin1\")\n",
    "DZ2_melt = pd.melt(DZ_2, id_vars=[\"twin.id\", \"twin_num\", \"family_id\", \"flowjo_id\", \"zygosity\", \"age\", \"subset\",\n",
    "                                  \"replicate\", \"visit\"], var_name=\"marker\", value_name=\"twin2\")"
   ]
  },
  {
   "cell_type": "code",
   "execution_count": 25,
   "metadata": {
    "collapsed": true
   },
   "outputs": [],
   "source": [
    "matched_DZ = pd.merge(left=DZ1_melt, right=DZ2_melt, on=[\"marker\", \"zygosity\", \"age\", \"family_id\"], how='inner')"
   ]
  },
  {
   "cell_type": "code",
   "execution_count": 26,
   "metadata": {
    "collapsed": false
   },
   "outputs": [],
   "source": [
    "#matched_DZ.to_csv(\"/ifs/projects/proj052/flow_processing_tables/DZ_twins_data.tsv\", sep=\"\\t\")\n"
   ]
  },
  {
   "cell_type": "code",
   "execution_count": 27,
   "metadata": {
    "collapsed": false,
    "scrolled": true
   },
   "outputs": [],
   "source": [
    "# subset into multiple dfs, one for each marker\n",
    "DZ_groups = matched_DZ.groupby(['marker'])\n",
    "MZ_groups = matched_MZ.groupby(['marker'])"
   ]
  },
  {
   "cell_type": "code",
   "execution_count": 28,
   "metadata": {
    "collapsed": false,
    "scrolled": false
   },
   "outputs": [],
   "source": [
    "# iterate through markers, calculating twin (intra-class) correlations\n",
    "DZ_cor_dict = {}\n",
    "for dname, dgroup in DZ_groups:\n",
    "    dztwin_cor = np.corrcoef(dgroup['twin1'], dgroup['twin2'])\n",
    "    DZ_cor_dict[dname] = dztwin_cor[0, 1]\n",
    "    \n",
    "MZ_cor_dict = {}\n",
    "for mname, mgroup in MZ_groups:\n",
    "    mztwin_cor = np.corrcoef(mgroup['twin1'], mgroup['twin2'])  \n",
    "    MZ_cor_dict[mname] = mztwin_cor[0, 1]"
   ]
  },
  {
   "cell_type": "code",
   "execution_count": 29,
   "metadata": {
    "collapsed": false
   },
   "outputs": [
    {
     "data": {
      "text/plain": [
       "(0.47491308662266413, 0.41865395806363487)"
      ]
     },
     "execution_count": 29,
     "metadata": {},
     "output_type": "execute_result"
    }
   ],
   "source": [
    "mztwin_cor[0, 1], dztwin_cor[0, 1]"
   ]
  },
  {
   "cell_type": "code",
   "execution_count": 34,
   "metadata": {
    "collapsed": true
   },
   "outputs": [],
   "source": [
    "# calculate heritability as 2x the twin-class correlation difference\n",
    "broad_h = {}\n",
    "for key in MZ_cor_dict.keys():\n",
    "    if not re.search(\"NA\", key):\n",
    "        mz_cor = MZ_cor_dict[key]\n",
    "        dz_cor = DZ_cor_dict[key]\n",
    "        H2 = 2 * (mz_cor - dz_cor)\n",
    "        broad_h[key] = H2\n",
    "    else:\n",
    "        pass"
   ]
  },
  {
   "cell_type": "code",
   "execution_count": 35,
   "metadata": {
    "collapsed": false,
    "scrolled": true
   },
   "outputs": [
    {
     "data": {
      "text/plain": [
       "Aq_blue   -0.105993\n",
       "CCR10     -0.146619\n",
       "CCR4       0.483622\n",
       "CCR6       0.428939\n",
       "CCR7       0.111381\n",
       "CD161      0.250414\n",
       "CD3        0.271304\n",
       "CD4       -0.147852\n",
       "CD45RA     0.357381\n",
       "CD8       -0.123898\n",
       "CXCR3     -0.900234\n",
       "CXCR5     -0.094029\n",
       "PD-1       0.112518\n",
       "dtype: float64"
      ]
     },
     "execution_count": 35,
     "metadata": {},
     "output_type": "execute_result"
    }
   ],
   "source": [
    "pd.Series(broad_h)"
   ]
  },
  {
   "cell_type": "code",
   "execution_count": null,
   "metadata": {
    "collapsed": true
   },
   "outputs": [],
   "source": []
  }
 ],
 "metadata": {
  "kernelspec": {
   "display_name": "Python 2",
   "language": "python",
   "name": "python2"
  },
  "language_info": {
   "codemirror_mode": {
    "name": "ipython",
    "version": 2
   },
   "file_extension": ".py",
   "mimetype": "text/x-python",
   "name": "python",
   "nbconvert_exporter": "python",
   "pygments_lexer": "ipython2",
   "version": "2.7.9"
  }
 },
 "nbformat": 4,
 "nbformat_minor": 0
}
