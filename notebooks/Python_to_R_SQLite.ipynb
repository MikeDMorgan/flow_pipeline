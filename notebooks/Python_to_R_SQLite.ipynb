{
 "cells": [
  {
   "cell_type": "code",
   "execution_count": 1,
   "metadata": {
    "collapsed": true
   },
   "outputs": [],
   "source": [
    "import pandas as pd\n",
    "import numpy as np\n",
    "import rpy2.robjects as ro\n",
    "from rpy2.robjects import r as R\n",
    "from rpy2.robjects import pandas2ri\n",
    "import sqlite3 as sql\n",
    "import pandas.io.sql as pdsql\n",
    "import re"
   ]
  },
  {
   "cell_type": "code",
   "execution_count": 2,
   "metadata": {
    "collapsed": false
   },
   "outputs": [
    {
     "name": "stderr",
     "output_type": "stream",
     "text": [
      "/ifs/apps/apps/python-2.7.10/lib/python2.7/site-packages/rpy2/robjects/functions.py:106: UserWarning: Loading required package: DBI\n",
      "\n",
      "  res = super(Function, self).__call__(*new_args, **new_kwargs)\n"
     ]
    }
   ],
   "source": [
    "db = \"/ifs/projects/proj052/pipeline_proj052/csvdb\"\n",
    "dbh = sql.connect(db)\n",
    "pandas2ri.activate()\n",
    "\n",
    "# have to pull out arrays in R\n",
    "# need to unserialize in R as well, Python doesn't reconstruct the arrays properly\n",
    "R('''library(RSQLite)''')\n",
    "R('''con <- dbConnect(SQLite(), \"%s\")''' % db)\n",
    "py_sqlcon = R[\"con\"]"
   ]
  },
  {
   "cell_type": "code",
   "execution_count": 3,
   "metadata": {
    "collapsed": false
   },
   "outputs": [
    {
     "name": "stdout",
     "output_type": "stream",
     "text": [
      "<class 'rpy2.robjects.methods.RS4'>\n"
     ]
    }
   ],
   "source": [
    "print py_sqlcon.__class__"
   ]
  },
  {
   "cell_type": "code",
   "execution_count": 4,
   "metadata": {
    "collapsed": true
   },
   "outputs": [],
   "source": [
    "def setupConnection(db_path):\n",
    "    '''\n",
    "    setup an SQLite connection in R, then return it as an rpy2 object'''\n",
    "    \n",
    "    R('''require(RSQLite)''')\n",
    "    R('''con <- dbConnect(SQLite(), \"%s\")''' % db_path)\n",
    "    py_sqlcon = R[\"con\"]\n",
    "    \n",
    "    return py_sqlcon    "
   ]
  },
  {
   "cell_type": "code",
   "execution_count": 5,
   "metadata": {
    "collapsed": false
   },
   "outputs": [
    {
     "data": {
      "text/plain": [
       "<Vector - Python:0x2afede9885a8 / R:0x2e7ccd8>\n",
       "[       1]"
      ]
     },
     "execution_count": 5,
     "metadata": {},
     "output_type": "execute_result"
    }
   ],
   "source": [
    "r_con = setupConnection(db)\n",
    "R.assign(\"pycon\", r_con)\n",
    "R('''dbDisconnect(pycon)''')"
   ]
  },
  {
   "cell_type": "code",
   "execution_count": 6,
   "metadata": {
    "collapsed": false
   },
   "outputs": [
    {
     "data": {
      "text/plain": [
       "'gate TEXT, batch TEXT, rows TEXT'"
      ]
     },
     "execution_count": 6,
     "metadata": {},
     "output_type": "execute_result"
    }
   ],
   "source": [
    "variable = [(\"gate\", \"TEXT\"), (\"batch\", \"TEXT\"), (\"rows\", \"TEXT\")]\n",
    "\", \".join([\" \".join([x, y]) for x,y in variable])"
   ]
  },
  {
   "cell_type": "code",
   "execution_count": 7,
   "metadata": {
    "collapsed": false
   },
   "outputs": [],
   "source": [
    "R('''df <- data.frame(replicate(5, rnorm(20)))''')\n",
    "R('''colnames(df) <- c(\"var1\", \"var2\", \"var3\", \"var4\", \"var5\")''')\n",
    "R('''cols <- colnames(df)''')\n",
    "df_headers = [x for x in R[\"cols\"]]"
   ]
  },
  {
   "cell_type": "code",
   "execution_count": 8,
   "metadata": {
    "collapsed": true
   },
   "outputs": [],
   "source": [
    "variables = [\"str1\", \"str2\", \"str3\", \"str4\", \"str5\"]"
   ]
  },
  {
   "cell_type": "code",
   "execution_count": 9,
   "metadata": {
    "collapsed": false
   },
   "outputs": [
    {
     "data": {
      "text/plain": [
       "[('var1', 'var1'),\n",
       " ('var2', 'var2'),\n",
       " ('var3', 'var3'),\n",
       " ('var4', 'var4'),\n",
       " ('var5', 'var5')]"
      ]
     },
     "execution_count": 9,
     "metadata": {},
     "output_type": "execute_result"
    }
   ],
   "source": [
    "zip(df_headers, df_headers)"
   ]
  },
  {
   "cell_type": "code",
   "execution_count": 3,
   "metadata": {
    "collapsed": false
   },
   "outputs": [],
   "source": [
    "db = \"/ifs/projects/proj052/pipeline_proj052/csvdb\"\n",
    "R('''library(RSQLite)''')\n",
    "#R('''con <- dbConnect(SQLite(), \"%s\")''' % db)\n",
    "#py_con = R[\"con\"]\n",
    "\n",
    "dbh = sql.connect(db)"
   ]
  },
  {
   "cell_type": "code",
   "execution_count": 4,
   "metadata": {
    "collapsed": false
   },
   "outputs": [],
   "source": [
    "# get all unique combinations of panel and gate\n",
    "query = \"SELECT gate, batch, panel FROM CD8_Tcell_fano;\"\n",
    "#R('''dbGetPreparedQuery(con, \"%s\")''' % query)\n",
    "records = pdsql.read_sql(query, dbh)"
   ]
  },
  {
   "cell_type": "code",
   "execution_count": 5,
   "metadata": {
    "collapsed": false
   },
   "outputs": [],
   "source": [
    "gates = set(zip(records[\"gate\"], records[\"panel\"]))"
   ]
  },
  {
   "cell_type": "code",
   "execution_count": 47,
   "metadata": {
    "collapsed": false
   },
   "outputs": [
    {
     "name": "stdout",
     "output_type": "stream",
     "text": [
      "          CD27      CD127       Aq       CD8      CD4     CD57   CD45RA\n",
      "1 0.0003982081 0.04187760 7.392269 11.369756 12.53314 1.707251 1.597268\n",
      "2 0.0003131674 0.04800354 9.092283 10.789068 14.27233 2.173279 1.704395\n",
      "3 0.0003978960 0.04312275 7.919096 10.663936 13.25227 2.069882 1.621518\n",
      "4 0.0003805075 0.04255617 8.894760 10.223513 13.88786 2.247048 1.405900\n",
      "5 0.0003488279 0.04245987 8.887288  8.828831 14.66470 2.139274 1.594047\n",
      "6 0.0003811960 0.04569761 8.281769  7.716811 14.87854 2.554836 1.758243\n",
      "       CCR7      CD3     CD95      CD28     CD244     CD31        twins batch\n",
      "1 0.2209000 1.238972 4.305136 0.7535486 13.079434 2.276457  Twin_TS01_1  ZZEV\n",
      "2 0.4531488 2.193631 4.912340 0.8438717 11.483903 2.360154 Twin_TS01_10  ZZEV\n",
      "3 0.4222162 1.425359 4.263241 0.6738846 11.071193 2.103901 Twin_TS01_11  ZZEV\n",
      "4 0.3172391 1.427968 4.786332 0.6811353 12.886009 1.921735 Twin_TS01_12  ZZEV\n",
      "5 0.2536503 2.144931 3.028471 0.8592804  9.863618 1.767836 Twin_TS01_13  ZZEV\n",
      "6 0.9852331 3.459234 2.832390 0.9137878 15.198215 2.141516 Twin_TS01_14  ZZEV\n",
      "  panel           gate\n",
      "1    P1 CD3.CD28.CD244\n",
      "2    P1 CD3.CD28.CD244\n",
      "3    P1 CD3.CD28.CD244\n",
      "4    P1 CD3.CD28.CD244\n",
      "5    P1 CD3.CD28.CD244\n",
      "6    P1 CD3.CD28.CD244\n"
     ]
    }
   ],
   "source": [
    "# Filter arrays? If sum of all elements is 0, then drop it?\n",
    "R('''source(\"/ifs/projects/proj052/src/flow_pipeline/R_scripts/FlowProcess.R\")''')\n",
    "R('''library(data.table)''')\n",
    "R('''library(rbenchmark)''')\n",
    "for gate, panel in gates:\n",
    "    if panel == \"P2\":\n",
    "        pass\n",
    "    else:\n",
    "        state = '''SELECT * FROM CD8_Tcell_fano WHERE gate = '%s' AND panel = '%s' ''' % (gate, \"P1\")\n",
    "        R('''r.df <- dbGetQuery(con, \"%(state)s\")''' % locals())\n",
    "        R('''r.df$real.array <- lapply(unlist(r.df$array), FUN=function(x) {unserialize(charToRaw(x))})''')\n",
    "        # need to add batch to each array - write a function\n",
    "        R('''batch_list <- add_batch(r.df)''')\n",
    "        R('''out_df <- r.df[,c(1:4,6,7)]''')\n",
    "        #R('''print(lapply(r.df$real.array, FUN=colnames))''')\n",
    "        #R('''arrays <- data.frame(do.call(rbind, r.df$real.array))''')\n",
    "        R('''arrays <- data.frame(rbindlist(r.df$real.array))''')\n",
    "        #R('''meta.df <- r.df[,c(1:4,6)]''')\n",
    "        R('''twins <- unlist(strsplit(r.df$rows, fixed=T, split=\"/\"))''')\n",
    "        R('''arrays$twins <- twins''')\n",
    "        R('''arrays$batch <- unlist(batch_list)''')\n",
    "        R('''arrays$panel <- \"%(panel)s\"''' % locals())\n",
    "        R('''arrays$gate <- \"%(gate)s\"''' % locals())\n",
    "        # remove NA columns\n",
    "        R('''cols <- colnames(arrays)[!is.na(colnames(arrays))]''')\n",
    "        R('''all_cols <- cols[!grepl(\"NA\", cols, perl=TRUE)]''')\n",
    "        R('''print(head(arrays[all_cols]))''')\n",
    "        py_df = R[\"arrays\"]\n",
    "        #py_meta = R[\"meta.df\"]\n",
    "        #_meta = pandas2ri.ri2py_dataframe(py_meta)\n",
    "        #_df = pandas2ri.ri2py_dataframe(py_df)\n",
    "        #print _df\n",
    "        break"
   ]
  },
  {
   "cell_type": "code",
   "execution_count": null,
   "metadata": {
    "collapsed": false
   },
   "outputs": [],
   "source": []
  },
  {
   "cell_type": "code",
   "execution_count": null,
   "metadata": {
    "collapsed": true
   },
   "outputs": [],
   "source": []
  },
  {
   "cell_type": "code",
   "execution_count": null,
   "metadata": {
    "collapsed": true
   },
   "outputs": [],
   "source": []
  }
 ],
 "metadata": {
  "kernelspec": {
   "display_name": "Python 2",
   "language": "python",
   "name": "python2"
  },
  "language_info": {
   "codemirror_mode": {
    "name": "ipython",
    "version": 2
   },
   "file_extension": ".py",
   "mimetype": "text/x-python",
   "name": "python",
   "nbconvert_exporter": "python",
   "pygments_lexer": "ipython2",
   "version": "2.7.10"
  }
 },
 "nbformat": 4,
 "nbformat_minor": 0
}
